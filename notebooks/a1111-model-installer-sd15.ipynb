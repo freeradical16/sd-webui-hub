{
 "nbformat": 4,
 "nbformat_minor": 5,
 "metadata": {
  "kernelspec": {
   "display_name": "Python 3 (ipykernel)",
   "language": "python",
   "name": "python3"
  },
  "language_info": {
   "name": "python",
   "version": "3.10"
  }
 },
 "cells": [
  {
   "cell_type": "markdown",
   "metadata": {},
   "source": [
    "# A1111 Model Installer — SD 1.5 (UI)\n",
    "\n",
    "This installs **SD 1.5** assets for Automatic1111 using a friendly UI:\n",
    "\n",
    "- **Checkpoints** → `/workspace/a1111/models/Stable-diffusion/`\n",
    "- **VAE (optional)** → `/workspace/a1111/models/VAE/`\n",
    "- **ControlNet (SD15)** → `/workspace/a1111/models/ControlNet/`\n",
    "- **Upscalers & Restorers** → `/workspace/a1111/models/(ESRGAN|GFPGAN|Codeformer)/`\n",
    "\n",
    "Re-running is safe (existing files are skipped).  \n",
    "If a model is gated on Hugging Face, set `HF_TOKEN` in your RunPod template."
   ]
  },
  {
   "cell_type": "code",
   "metadata": {},
   "source": [
    "# First time? Uncomment, run once, then Kernel → Restart\n",
    "# !pip install -q ipywidgets tqdm requests huggingface_hub\n",
    "print('Downloader UI ready (install dependencies once if widgets are missing).')"
   ]
  },
  {
   "cell_type": "code",
   "metadata": {},
   "source": [
    "from pathlib import Path; import os\n",
    "DATA_ROOT=Path(os.environ.get('WEBUI_ROOT','/workspace/a1111'))\n",
    "CKPT_DIR=DATA_ROOT/'models/Stable-diffusion';VAE_DIR=DATA_ROOT/'models/VAE';CN_DIR=DATA_ROOT/'models/ControlNet'\n",
    "ESRGAN_DIR=DATA_ROOT/'models/ESRGAN';GFPGAN_DIR=DATA_ROOT/'models/GFPGAN';CODEFORMER_DIR=DATA_ROOT/'models/Codeformer'\n",
    "for d in (CKPT_DIR,VAE_DIR,CN_DIR,ESRGAN_DIR,GFPGAN_DIR,CODEFORMER_DIR): d.mkdir(parents=True,exist_ok=True)\n",
    "print('Data root:',DATA_ROOT)"
   ]
  },
  {
   "cell_type": "code",
   "metadata": {},
   "source": [
    "import requests,shlex,subprocess,shutil,time;from tqdm import tqdm;from huggingface_hub import hf_hub_download\n",
    "def human(n):\n",
    "  for u in ['B','KB','MB','GB']:\n",
    "    if n<1024:return f'{n:.1f} {u}';n/=1024\n",
    "  return f'{n:.1f} TB'\n",
    "def download_direct(url,dest):\n",
    "  dest.parent.mkdir(parents=True,exist_ok=True)\n",
    "  if dest.exists():print('✔ Exists:',dest);return dest\n",
    "  r=requests.get(url,stream=True);r.raise_for_status();total=int(r.headers.get('Content-Length',0));tmp=dest.with_suffix(dest.suffix+'.part')\n",
    "  with open(tmp,'wb') as f,tqdm(total=total if total>0 else None,unit='B',unit_scale=True,desc=dest.name,ncols=80) as bar:\n",
    "    for ch in r.iter_content(1024*1024):\n",
    "      if ch:f.write(ch);bar.update(len(ch) if total>0 else 0)\n",
    "  tmp.replace(dest);print('✔ Saved:',dest,'('+human(dest.stat().st_size)+')');return dest\n",
    "def download_hf(repo_id,filename,dest_dir,dest_name=None,token=None):\n",
    "  dest=dest_dir/(dest_name or filename)\n",
    "  if dest.exists():print('✔ Exists:',dest);return dest\n",
    "  print('→ HF:',repo_id+'/'+filename)\n",
    "  p=hf_hub_download(repo_id=repo_id,filename=filename,token=token or os.environ.get('HF_TOKEN'),local_dir=dest_dir,local_dir_use_symlinks=False,resume_download=True)\n",
    "  if Path(p)!=dest:shutil.copy2(p,dest)\n",
    "  print('✔ HF downloaded:',dest,'('+human(dest.stat().st_size)+')');return dest\n",
    "print('Helpers loaded.')"
   ]
  },
  {
   "cell_type": "markdown",
   "metadata": {},
   "source": [
    "## SD 1.5 models"
   ]
  },
  {
   "cell_type": "code",
   "metadata": {},
   "source": [
    "import ipywidgets as W;from IPython.display import display,Markdown\n",
    "vae=W.Checkbox(description='Install SD1.5 MSE VAE',value=False)\n",
    "cn=[('Canny','lllyasviel/control_v11p_sd15_canny'),('Depth','lllyasviel/control_v11p_sd15_depth'),('SoftEdge','lllyasviel/control_v11p_sd15_softedge'),('LineArt','lllyasviel/control_v11p_sd15_lineart'),('NormalBae','lllyasviel/control_v11p_sd15_normalbae'),('OpenPose','lllyasviel/control_v11p_sd15_openpose')]\n",
    "pre={'Canny','SoftEdge','OpenPose'};cbs=[W.Checkbox(description=l,value=l in pre) for l,_ in cn]\n",
    "urls=W.Textarea(placeholder='Paste SD1.5 checkpoint URLs (.safetensors/.ckpt) one per line',layout=W.Layout(width='100%',height='120px'))\n",
    "b=W.Button(description='Download Selected',button_style='success',icon='download');out=W.Output()\n",
    "def click(_):\n",
    "  out.clear_output()\n",
    "  with out:\n",
    "    err=[]\n",
    "    if vae.value:\n",
    "      try:download_hf('stabilityai/sd-vae-ft-mse','vae-ft-mse-840000-ema-pruned.safetensors',VAE_DIR)\n",
    "      except Exception as e:err.append(('VAE',e))\n",
    "    for cb,(l,r) in zip(cbs,cn):\n",
    "      if cb.value:\n",
    "        try:download_hf(r,'diffusion_pytorch_model.safetensors',CN_DIR,f'control_v11p_sd15_{l.lower()}.safetensors')\n",
    "        except Exception as e:err.append((l,e))\n",
    "    for u in [u.strip() for u in urls.value.splitlines() if u.strip()]:\n",
    "      try:n=u.split('/')[-1].split('?')[0]\n",
    "      except:continue\n",
    "      if not n.endswith(('.ckpt','.safetensors')):n+='.safetensors'\n",
    "      try:download_direct(u,CKPT_DIR/n)\n",
    "      except Exception as e:err.append((u,e))\n",
    "    print('\\nSummary:');[print('✖',n,':',m) for n,m in err] if err else print('✔ Done.')\n",
    "b.on_click(click);display(Markdown('### Checkpoints & ControlNet')),display(urls,vae,*cbs,b,out)"
   ]
  },
  {
   "cell_type": "markdown",
   "metadata": {},
   "source": [
    "## Upscalers & Restorers"
   ]
  },
  {
   "cell_type": "code",
   "metadata": {},
   "source": [
    "from IPython.display import display\n",
    "def smart(name):\n",
    "  n=name.lower()\n",
    "  if 'gfpgan' in n:return GFPGAN_DIR/'GFPGANv1.4.pth'\n",
    "  if 'codeformer' in n:return CODEFORMER_DIR/'codeformer.pth'\n",
    "  return ESRGAN_DIR/name\n",
    "def download_named(url,n):name=n or url.split('/')[-1].split('?')[0];return download_direct(url,smart(name))\n",
    "ultra=W.Checkbox(description='4x-UltraSharp',value=True);ultra_t=W.Text(placeholder='URL to 4x-UltraSharp.pth',layout=W.Layout(width='100%'))\n",
    "re=W.Checkbox(description='RealESRGAN_x4plus',value=True);re_t=W.Text(placeholder='URL to RealESRGAN_x4plus.pth',layout=W.Layout(width='100%'))\n",
    "gfp=W.Checkbox(description='GFPGAN v1.4',value=False);gfp_t=W.Text(placeholder='URL to GFPGANv1.4.pth',layout=W.Layout(width='100%'))\n",
    "code=W.Checkbox(description='CodeFormer',value=False);code_t=W.Text(placeholder='URL to codeformer.pth',layout=W.Layout(width='100%'))\n",
    "extra=W.Textarea(placeholder='Extra model URLs (one per line)',layout=W.Layout(width='100%',height='80px'))\n",
    "b2=W.Button(description='Download Upscalers',button_style='success',icon='download');out2=W.Output()\n",
    "def go(_):\n",
    "  out2.clear_output()\n",
    "  with out2:\n",
    "    e=[]\n",
    "    for cb,t,n in [(ultra,ultra_t,'4x-UltraSharp.pth'),(re,re_t,'RealESRGAN_x4plus.pth'),(gfp,gfp_t,'GFPGANv1.4.pth'),(code,code_t,'codeformer.pth')]:\n",
    "      if cb.value and t.value.strip():\n",
    "        try:download_named(t.value.strip(),n)\n",
    "        except Exception as x:e.append((n,x))\n",
    "    for u in [u.strip() for u in extra.value.splitlines() if u.strip()]:\n",
    "      try:download_named(u,u.split('/')[-1])\n",
    "      except Exception as x:e.append((u,x))\n",
    "    print('Summary:');[print('✖',n,':',x) for n,x in e] if e else print('✔ All done.')\n",
    "b2.on_click(go);display(ultra,ultra_t,re,re_t,gfp,gfp_t,code,code_t,extra,b2,out2)"
   ]
  },
  {
   "cell_type": "markdown",
   "metadata": {},
   "source": [
    "## Restart WebUI"
   ]
  },
  {
   "cell_type": "code",
   "metadata": {},
   "source": [
    "try:\n",
    "  c='supervisorctl -c /etc/supervisord.conf restart a1111'\n",
    "  o=subprocess.run(shlex.split(c),capture_output=True,text=True,timeout=20)\n",
    "  print('✔ Restarted. Refresh WebUI in 10–15 s.' if o.returncode==0 else o.stderr)\n",
    "except Exception as e:\n",
    "  print('Manual restart needed:',e)"
   ]
  }
 ]
}
