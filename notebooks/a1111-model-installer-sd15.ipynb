{
 "cells": [
  {
   "cell_type": "markdown",
   "metadata": {},
   "source": [
    "# A1111 Model Installer — SD 1.5 (UI)\n",
    "\n",
    "Installs **SD 1.5** assets for Automatic1111 using a simple UI:\n",
    "\n",
    "- **Checkpoints** (paste URLs) → `/workspace/a1111/models/Stable-diffusion/`\n",
    "- **VAE (optional)** → `/workspace/a1111/models/VAE/`\n",
    "- **ControlNet (SD15)** → `/workspace/a1111/models/ControlNet/`\n",
    "\n",
    "Re-running is safe: existing files are skipped; existing repos are updated.\n",
    "\n",
    "> If a model is gated on Hugging Face, set `HF_TOKEN` in the RunPod template."
   ]
  },
  {
   "cell_type": "code",
   "metadata": { "tags": ["parameters"] },
   "source": [
    "from pathlib import Path\n",
    "import os\n",
    "\n",
    "# A1111 data root (matches WEBUI_ROOT in your image)\n",
    "DATA_ROOT = Path(os.environ.get(\"WEBUI_ROOT\", \"/workspace/a1111\"))\n",
    "CKPT_DIR = DATA_ROOT / \"models/Stable-diffusion\"\n",
    "VAE_DIR  = DATA_ROOT / \"models/VAE\"\n",
    "CN_DIR   = DATA_ROOT / \"models/ControlNet\"\n",
    "\n",
    "for d in (CKPT_DIR, VAE_DIR, CN_DIR):\n",
    "    d.mkdir(parents=True, exist_ok=True)\n",
    "print(\"Data root:\", DATA_ROOT)\n",
    "print(\"↳ Checkpoints:\", CKPT_DIR)\n",
    "print(\"↳ VAE:\", VAE_DIR)\n",
    "print(\"↳ ControlNet (SD15):\", CN_DIR)"
   ]
  },
  {
   "cell_type": "markdown",
   "metadata": {},
   "source": ["## Helpers (with progress bars)"]
  },
  {
   "cell_type": "code",
   "metadata": {},
   "source": [
    "import requests, shutil, os\n",
    "from tqdm import tqdm\n",
    "from huggingface_hub import hf_hub_download\n",
    "from pathlib import Path\n",
    "\n",
    "def human(n: int) -> str:\n",
    "    for unit in [\"B\",\"KB\",\"MB\",\"GB\"]:\n",
    "        if n < 1024: return f\"{n:.1f} {unit}\"\n",
    "        n /= 1024\n",
    "    return f\"{n:.1f} TB\"\n",
    "\n",
    "def download_direct(url: str, dest: Path):\n",
    "    dest.parent.mkdir(parents=True, exist_ok=True)\n",
    "    if dest.exists():\n",
    "        print(\"✔ Exists:\", dest); return dest\n",
    "    r = requests.get(url, stream=True)\n",
    "    r.raise_for_status()\n",
    "    total = int(r.headers.get('Content-Length', 0))\n",
    "    tmp = dest.with_suffix(dest.suffix + \".part\")\n",
    "    with open(tmp, 'wb') as f, tqdm(total=total, unit='B', unit_scale=True, desc=dest.name, ncols=80) as bar:\n",
    "        for chunk in r.iter_content(chunk_size=1024*1024):\n",
    "            if chunk:\n",
    "                f.write(chunk); bar.update(len(chunk))\n",
    "    tmp.replace(dest)\n",
    "    print(\"✔ Saved:\", dest, f\"({human(dest.stat().st_size)})\")\n",
    "    return dest\n",
    "\n",
    "def download_hf(repo_id, filename, dest_dir, dest_name=None):\n",
    "    dest = dest_dir / (dest_name or filename)\n",
    "    if dest.exists(): print(\"✔ Exists:\", dest); return dest\n",
    "    print(f\"→ HF: {repo_id}/{filename}\")\n",
    "    path = hf_hub_download(repo_id=repo_id, filename=filename, token=os.getenv('HF_TOKEN'), local_dir=dest_dir)\n",
    "    shutil.copy2(path, dest)\n",
    "    print(\"✔ HF downloaded:\", dest, f\"({human(dest.stat().st_size)})\")"
   ]
  },
  {
   "cell_type": "markdown",
   "metadata": {},
   "source": [
    "## Pick what to install\n",
    "Paste SD 1.5 **checkpoint URLs**, toggle VAE or ControlNets, then click **Download Selected**."
   ]
  },
  {
   "cell_type": "code",
   "metadata": {},
   "source": [
    "import ipywidgets as W\n",
    "from IPython.display import display, Markdown\n",
    "\n",
    "vae_checkbox = W.Checkbox(description=\"Install SD1.5 MSE VAE (stabilityai/sd-vae-ft-mse)\", value=False)\n",
    "cn_options = [\n",
    "    (\"Canny\",     \"lllyasviel/control_v11p_sd15_canny\"),\n",
    "    (\"SoftEdge\",  \"lllyasviel/control_v11p_sd15_softedge\"),\n",
    "    (\"OpenPose\",  \"lllyasviel/control_v11p_sd15_openpose\")\n",
    "]\n",
    "cn_checkboxes = [W.Checkbox(description=label, value=True) for label, _ in cn_options]\n",
    "ckpt_text = W.Textarea(placeholder=\"Paste .safetensors URLs, one per line\", layout=W.Layout(width=\"100%\", height=\"120px\"))\n",
    "\n",
    "btn = W.Button(description=\"Download Selected\", button_style=\"success\", icon=\"download\")\n",
    "out = W.Output()\n",
    "\n",
    "def on_click(_):\n",
    "    out.clear_output()\n",
    "    with out:\n",
    "        errors = []\n",
    "        if vae_checkbox.value:\n",
    "            download_hf(\"stabilityai/sd-vae-ft-mse\", \"vae-ft-mse-840000-ema-pruned.safetensors\", VAE_DIR)\n",
    "        for cb, (label, repo) in zip(cn_checkboxes, cn_options):\n",
    "            if cb.value:\n",
    "                download_hf(repo, \"diffusion_pytorch_model.safetensors\", CN_DIR, f\"control_{label.lower()}.safetensors\")\n",
    "        for url in [u.strip() for u in ckpt_text.value.splitlines() if u.strip()]:\n",
    "            download_direct(url, CKPT_DIR / url.split('/')[-1])\n",
    "        print(\"✔ Done. Refresh WebUI model list if open.\")\n",
    "\n",
    "btn.on_click(on_click)\n",
    "display(vae_checkbox)\n",
    "display(Markdown(\"### ControlNet (SD15)\"))\n",
    "for c in cn_checkboxes: display(c)\n",
    "display(Markdown(\"### Checkpoints\"))\n",
    "display(ckpt_text, btn, out)"
   ]
  }
 ],
 "metadata": { "kernelspec": { "display_name": "Python 3 (ipykernel)", "language": "python", "name": "python3" }},
 "nbformat": 4,
 "nbformat_minor": 5
}
