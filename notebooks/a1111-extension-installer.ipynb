{
  "cells": [
    {
      "cell_type": "markdown",
      "metadata": {},
      "source": [
        "# A1111 Extension Installer (Defaults + Recommended)\n",
        "\n",
        "Installs **Automatic1111** extensions into the WebUI **code tree** so they load properly:\n",
        "\n",
        "- Code extensions dir: `/opt/stable-diffusion-webui/extensions`\n",
        "- Data/models root: `/workspace/a1111` (place ControlNet/AnimateDiff/InsightFace/etc. models here)\n",
        "\n",
        "**Behavior**\n",
        "- **Defaults** (your curated list) are **installed automatically** when this cell runs\n",
        "- **Recommended** can be toggled on/off and installed via a button\n",
        "- You can also paste **extra Git repos** (one per line) and install them\n",
        "\n",
        "After installing, open WebUI → **Settings → Reload UI** or click **Restart A1111** button below."
      ]
    },
    {
      "cell_type": "code",
      "metadata": {
        "tags": [
          "parameters"
        ]
      },
      "source": [
        "import ipywidgets as W\n",
        "from IPython.display import display, clear_output, HTML\n",
        "from pathlib import Path\n",
        "from urllib.parse import urlparse\n",
        "import subprocess, os\n",
        "\n",
        "# ---- Paths ----\n",
        "CODE_EXT_DIR = Path(\"/opt/stable-diffusion-webui/extensions\")  # MUST be under code tree\n",
        "DATA_ROOT    = Path(\"/workspace/a1111\")                         # models live here if needed\n",
        "CODE_EXT_DIR.mkdir(parents=True, exist_ok=True)\n",
        "(DATA_ROOT / \"models\").mkdir(parents=True, exist_ok=True)\n",
        "\n\",\n        \"# ---- Your lists ----\\n\",\n        \"DEFAULT_EXTS = [\\n\",\n        \"    {\\\"name\\\": \\\"Aspect Ratio\\\",       \\\"url\\\": \\\"https://github.com/alemelis/sd-webui-ar\\\"},\\n\",\n        \"    {\\\"name\\\": \\\"Tag Autocomplete\\\",   \\\"url\\\": \\\"https://github.com/DominikDoom/a1111-sd-webui-tagcomplete\\\"},\\n\",\n        \"    {\\\"name\\\": \\\"Images Browser\\\",     \\\"url\\\": \\\"https://github.com/AlUlkesh/stable-diffusion-webui-images-browser\\\"},\\n\",\n        \"    {\\\"name\\\": \\\"Config Presets\\\",     \\\"url\\\": \\\"https://github.com/Zyin055/Config-Presets\\\"}\\n\",\n        \"]\\n\",\n        \"\\n\",\n        \"RECOMMENDED = [\\n\",\n        \"    {\\\"name\\\": \\\"ControlNet\\\",            \\\"url\\\": \\\"https://github.com/Mikubill/sd-webui-controlnet\\\",                 \\\"enable\\\": False},\\n\",\n        \"    {\\\"name\\\": \\\"ADetailer\\\",             \\\"url\\\": \\\"https://github.com/Bing-su/adetailer\\\",                            \\\"enable\\\": True},\\n\",\n        \"    {\\\"name\\\": \\\"Ultimate SD Upscale\\\",   \\\"url\\\": \\\"https://github.com/Coyote-A/ultimate-upscale-for-automatic1111\\\", \\\"enable\\\": True},\\n\",\n        \"    {\\\"name\\\": \\\"Dynamic Prompts\\\",       \\\"url\\\": \\\"https://github.com/adieyal/sd-dynamic-prompts\\\",                   \\\"enable\\\": False},\\n\",\n        \"    {\\\"name\\\": \\\"Openpose Editor\\\",       \\\"url\\\": \\\"https://github.com/fkunn1326/openpose-editor\\\",                    \\\"enable\\\": False}\\n\",\n        \"]\\n\",\n        \"\\n\",\n        \"# ---- Helpers ----\\n\",\n        \"def run(cmd, cwd=None):\\n\",\n        \"    print('$', ' '.join(cmd))\\n\",\n        \"    return subprocess.run(cmd, cwd=cwd, check=False)\\n\",\n        \"\\n\",\n        \"def repo_name_from_url(url: str) -> str:\\n\",\n        \"    path = urlparse(url).path.rstrip('/')\\n\",\n        \"    name = path.split('/')[-1]\\n\",\n        \"    return name[:-4] if name.endswith('.git') else name\\n\",\n        \"\\n\",\n        \"def install_or_update(url: str, base: Path) -> Path:\\n\",\n        \"    name = repo_name_from_url(url)\\n\",\n        \"    dst  = base / name\\n\",\n        \"    if not dst.exists():\\n\",\n        \"        print(f\"\\n[install] {name} ← {url}\")\\n\",\n        \"        run(['git', 'clone', '--depth', '1', url, str(dst)])\\n\",\n        \"    else:\\n\",\n        \"        print(f\"\\n[update] {name}\")\\n\",\n        \"        run(['git', '-C', str(dst), 'reset', '--hard'])\\n\",\n        \"        run(['git', '-C', str(dst), 'pull', '--ff-only'])\\n\",\n        \"    return dst\\n\",\n        \"\\n\",\n        \"def installed_in_code(url_or_name: str) -> bool:\\n\",\n        \"    key = repo_name_from_url(url_or_name) if url_or_name.startswith('http') else url_or_name\\n\",\n        \"    for p in CODE_EXT_DIR.iterdir():\\n\",\n        \"        if p.is_dir() and key.lower() in p.name.lower():\\n\",\n        \"            return True\\n\",\n        \"    return False\\n\",\n        \"\\n\",\n        \"# ---- UI Pieces ----\\n\",\n        \"header = W.HTML('<h3>🧩 A1111 Extension Manager</h3>')\\n\",\n        \"cols   = W.HBox([W.Label('Extensions', layout=W.Layout(width='300px')),\\n\",\n        \"                   W.Label('Status',     layout=W.Layout(width='150px')),\\n\",\n        \"                   W.Label('Homepage')])\\n\",\n        \"\\n\",\n        \"# Build Recommended rows with checkboxes\\n\",\n        \"rows = []\\n\",\n        \"cbs, labels = [], []\\n\",\n        \"for item in RECOMMENDED:\\n\",\n        \"    cb = W.Checkbox(value=bool(item.get('enable', False)))\\n\",\n        \"    cbs.append(cb)\\n\",\n        \"    status = W.Label('✅ Installed' if installed_in_code(item['url']) else '❌ Not Installed',\\n\",\n        \"                     layout=W.Layout(width='150px'))\\n\",\n        \"    labels.append(status)\\n\",\n        \"    link = W.HTML(f\"<a href='{item['url']}' target='_blank'>GitHub</a>\")\\n\",\n        \"    row  = W.HBox([cb, W.Label(item['name'], layout=W.Layout(width='300px')), status, link])\\n\",\n        \"    rows.append(row)\\n\",\n        \"\\n\",\n        \"extra_label = W.HTML('<b>Extra Git repo URLs (one per line):</b>')\\n\",\n        \"extra_text  = W.Textarea(placeholder='https://github.com/user/repo\\nhttps://github.com/other/repo', layout=W.Layout(height='90px'))\\n\",\n        \"btn_install = W.Button(description='Install Selected', button_style='success', icon='check')\\n\",\n        \"btn_refresh = W.Button(description='Refresh Status',  button_style='',       icon='refresh')\\n\",\n        \"btn_restart = W.Button(description='Restart A1111',   button_style='warning', icon='repeat')\\n\",\n        \"out = W.Output()\\n\",\n        \"\\n\",\n        \"def refresh_status():\\n\",\n        \"    # Defaults section status is rendered only in output; recommended labels updated live\\n\",\n        \"    for item, lab in zip(RECOMMENDED, labels):\\n\",\n        \"        lab.value = '✅ Installed' if installed_in_code(item['url']) else '❌ Not Installed'\\n\",\n        \"\\n\",\n        \"def on_install_clicked(_):\\n\",\n        \"    with out:\\n\",\n        \"        clear_output()\\n\",\n        \"        print('Installing…')\\n\",\n        \"        # recommended\\n\",\n        \"        for cb, item in zip(cbs, RECOMMENDED):\\n\",\n        \"            if cb.value:\\n\",\n        \"                install_or_update(item['url'], CODE_EXT_DIR)\\n\",\n        \"        # extra urls\\n\",\n        \"        extra = [u.strip() for u in extra_text.value.splitlines() if u.strip()]\\n\",\n        \"        for url in extra:\\n\",\n        \"            install_or_update(url, CODE_EXT_DIR)\\n\",\n        \"        refresh_status()\\n\",\n        \"        print('\\nDone. In WebUI: Settings → Reload UI (or use Restart button).')\\n\",\n        \"\\n\",\n        \"def on_refresh_clicked(_):\\n\",\n        \"    refresh_status()\\n\",\n        \"\\n\",\n        \"def on_restart_clicked(_):\\n\",\n        \"    with out:\\n\",\n        \"        clear_output()\\n\",\n        \"        print('Restarting A1111 via supervisord…')\\n\",\n        \"        run(['supervisorctl', '-c', '/etc/supervisord.conf', 'restart', 'a1111'])\\n\",\n        \"        print('Sent restart. If the UI doesn\\'t reconnect automatically, refresh your browser.')\\n\",\n        \"\\n\",\n        \"btn_install.on_click(on_install_clicked)\\n\",\n        \"btn_refresh.on_click(on_refresh_clicked)\\n\",\n        \"btn_restart.on_click(on_restart_clicked)\\n\",\n        \"\\n\",\n        \"# ---- Auto-install DEFAULTS once per run ----\\n\",\n        \"_installed_any_default = False\\n\",\n        \"for d in DEFAULT_EXTS:\\n\",\n        \"    if not installed_in_code(d['url']):\\n\",\n        \"        install_or_update(d['url'], CODE_EXT_DIR)\\n\",\n        \"        _installed_any_default = True\\n\",\n        \"\\n\",\n        \"# Pretty log for defaults\\n\",\n        \"defaults_log_lines = []\\n\",\n        \"for d in DEFAULT_EXTS:\\n\",\n        \"    defaults_log_lines.append(f\"- {d['name']}: {'✅ Installed' if installed_in_code(d['url']) else '❌ Not Installed'}\")\\n\",\n        \"defaults_summary = '<br>'.join(defaults_log_lines)\\n\",\n        \"defaults_html = W.HTML(f\"\"\"\n        <div style='margin:8px 0 12px 0;'>\n          <b>Defaults (auto-installed):</b><br>\n          {defaults_summary}\n        </div>\n        \"\"\")\\n\",\n        \"\\n\",\n        \"refresh_status()\\n\",\n        \"ui = W.VBox([\n\",\n        \"    header,\n\",\n        \"    defaults_html,\n\",\n        \"    cols,\n\",\n        \"    *rows,\n\",\n        \"    W.HTML('<hr>'),\n\",\n        \"    extra_label,\n\",\n        \"    extra_text,\n\",\n        \"    W.HBox([btn_install, btn_refresh, btn_restart], layout=W.Layout(gap='10px')),\n\",\n        \"    out\n\",\n        \"])\\n\",\n        \"display(ui)\\n"
      ],
      "execution_count": null,
      "outputs": []
    },
    {
      "cell_type": "markdown",
      "metadata": {},
      "source": [
        "### Notes\n",
        "- **Defaults** are installed automatically every time you run the cell (it’s safe; existing repos are updated).\n",
        "- **Recommended** are controlled by checkboxes; click **Install Selected** to install/update them.\n",
        "- Paste any extra GitHub repo URLs and install them in the same pass.\n",
        "- If extensions don’t show immediately, click **Restart A1111** here or **Settings → Reload UI** in WebUI."
      ]
    }
  ],
  "metadata": {
    "kernelspec": {
      "display_name": "Python 3 (ipykernel)",
      "language": "python",
      "name": "python3"
    },
    "language_info": {
      "name": "python",
      "version": "3.10"
    }
  },
  "nbformat": 4,
  "nbformat_minor": 5
}
