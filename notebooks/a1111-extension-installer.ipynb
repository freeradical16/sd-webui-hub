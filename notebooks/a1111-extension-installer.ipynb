{
  "cells": [
    {
      "cell_type": "markdown",
      "metadata": {},
      "source": [
        "# A1111 Extension Installer (UI)\n",
        "\n",
        "Install **Automatic1111** extensions into your WebUI **data directory** so they persist across pods:\n",
        "\n",
        "- Data root (WEBUI_ROOT): `/workspace/a1111` (default in this image)\n",
        "- Extensions dir: `/workspace/a1111/extensions`\n",
        "\n",
        "**How it works**\n",
        "- One unified list of extensions; our recommendations are **pre-checked**.\n",
        "- Add **extra Git URLs** (one per line) if you want more.\n",
        "- Safe to re-run: existing repos are updated with `git pull`.\n",
        "\n",
        "> After installing, use the **Restart WebUI** cell (or Settings → Reload UI) so extensions load."
      ]
    },
    {
      "cell_type": "code",
      "metadata": {},
      "source": [
        "# First time? Uncomment, run once, then Kernel → Restart\n",
        "# !pip install -q ipywidgets tqdm requests huggingface_hub\n",
        "print(\"Downloader UI ready (install dependencies once if widgets are missing).\")"
      ],
      "execution_count": null,
      "outputs": []
    },
    {
      "cell_type": "code",
      "metadata": { "tags": ["parameters"] },
      "source": [
        "# --- Paths / settings ---\n",
        "import os\n",
        "from pathlib import Path\n",
        "\n",
        "# Where A1111 expects user data (models, embeddings, *extensions*, etc.)\n",
        "WEBUI_ROOT = Path(os.environ.get(\"WEBUI_ROOT\", \"/workspace/a1111\"))\n",
        "EXT_DIR = WEBUI_ROOT / \"extensions\"\n",
        "EXT_DIR.mkdir(parents=True, exist_ok=True)\n",
        "\n",
        "print(\"WEBUI_ROOT:\", WEBUI_ROOT)\n",
        "print(\"Extensions directory:\", EXT_DIR)\n",
        "\n",
        "# Unified list of extensions; 'recommended': true means the checkbox starts checked\n",
        "EXTENSIONS = [\n",
        "  {\"name\": \"Aspect Ratio\",            \"url\": \"https://github.com/alemelis/sd-webui-ar\",                               \"recommended\": True},\n",
        "  {\"name\": \"Tag Autocomplete\",        \"url\": \"https://github.com/DominikDoom/a1111-sd-webui-tagcomplete\",             \"recommended\": True},\n",
        "  {\"name\": \"Images Browser\",          \"url\": \"https://github.com/AlUlkesh/stable-diffusion-webui-images-browser\",     \"recommended\": True},\n",
        "  {\"name\": \"Config Presets\",          \"url\": \"https://github.com/Zyin055/Config-Presets\",                            \"recommended\": True},\n",
        "  {\"name\": \"ADetailer\",               \"url\": \"https://github.com/Bing-su/adetailer\",                                 \"recommended\": True},\n",
        "  {\"name\": \"Ultimate SD Upscale\",     \"url\": \"https://github.com/Coyote-A/ultimate-upscale-for-automatic1111\",        \"recommended\": True},\n",
        "  {\"name\": \"ControlNet\",              \"url\": \"https://github.com/Mikubill/sd-webui-controlnet\",                      \"recommended\": False},\n",
        "  {\"name\": \"Dynamic Prompts\",         \"url\": \"https://github.com/adieyal/sd-dynamic-prompts\",                        \"recommended\": False},\n",
        "  {\"name\": \"Openpose Editor\",         \"url\": \"https://github.com/fkunn1326/openpose-editor\",                         \"recommended\": False}\n",
        "]\n",
        "\n",
        "print(\"Extensions listed:\", len(EXTENSIONS))"
      ],
      "execution_count": null,
      "outputs": []
    },
    {
      "cell_type": "markdown",
      "metadata": {},
      "source": [
        "## UI: choose what to install\n",
        "- Check/uncheck any extensions.\n",
        "- Paste extra Git URLs (one per line)."
      ]
    },
    {
      "cell_type": "code",
      "metadata": {},
      "source": [
        "import ipywidgets as W\n",
        "from IPython.display import display, Markdown\n",
        "\n",
        "# Build checkboxes for the unified list\n",
        "ext_checkboxes = []\n",
        "for item in EXTENSIONS:\n",
        "    cb = W.Checkbox(description=item[\"name\"], value=bool(item.get(\"recommended\", False)))\n",
        "    ext_checkboxes.append((cb, item))\n",
        "\n",
        "# Extra repo URLs\n",
        "extra_text = W.Textarea(\n",
        "    value=\"\",\n",
        "    placeholder=\"Paste additional extension Git repo URLs here (one per line).\",\n",
        "    layout=W.Layout(width=\"100%\", height=\"120px\")\n",
        ")\n",
        "\n",
        "btn = W.Button(description=\"Download Selected\", button_style=\"success\", icon=\"download\")\n",
        "out = W.Output()\n",
        "\n",
        "display(Markdown(\"**Extensions:**\"))\n",
        "for cb, _ in ext_checkboxes:\n",
        "    display(cb)\n",
        "display(Markdown(\"**Extra URLs (one per line):**\"))\n",
        "display(extra_text)\n",
        "display(btn, out)"
      ],
      "execution_count": null,
      "outputs": []
    },
    {
      "cell_type": "markdown",
      "metadata": {},
      "source": [
        "## Installer logic\n",
        "Clones new repos or updates existing ones in place."
      ]
    },
    {
      "cell_type": "code",
      "metadata": {},
      "source": [
        "import subprocess\n",
        "from urllib.parse import urlparse\n",
        "from pathlib import Path\n",
        "\n",
        "def run(cmd, cwd=None):\n",
        "    print(\"$\", \" \".join(cmd))\n",
        "    return subprocess.run(cmd, cwd=cwd, check=True)\n",
        "\n",
        "def repo_basename(url: str) -> str:\n",
        "    # https://github.com/owner/repo(.git) -> repo\n",
        "    path = urlparse(url).path.rstrip(\"/\")\n",
        "    name = path.split(\"/\")[-1]\n",
        "    return name[:-4] if name.endswith(\".git\") else name\n",
        "\n",
        "def install_or_update(url: str, base: Path) -> Path:\n",
        "    name = repo_basename(url)\n",
        "    dst = base / name\n",
        "    if not dst.exists():\n",
        "        print(f\"\\n[install] {name} from {url}\")\n",
        "        run([\"git\", \"clone\", \"--depth\", \"1\", url, str(dst)])\n",
        "    else:\n",
        "        print(f\"\\n[update] {name}\")\n",
        "        try:\n",
        "            run([\"git\", \"-C\", str(dst), \"reset\", \"--hard\"]) \n",
        "            run([\"git\", \"-C\", str(dst), \"pull\", \"--ff-only\"]) \n",
        "        except subprocess.CalledProcessError:\n",
        "            print(\"  (non-ff; attempting rebase)\")\n",
        "            run([\"git\", \"-C\", str(dst), \"pull\", \"--rebase\", \"--autostash\"]) \n",
        "    return dst\n",
        "\n",
        "def perform_install(ext_pairs, extra_lines):\n",
        "    installed, errors = [], []\n",
        "\n",
        "    # 1) Selected from list\n",
        "    for cb, item in ext_pairs:\n",
        "        if not cb.value:\n",
        "            continue\n",
        "        try:\n",
        "            installed.append(install_or_update(item[\"url\"], EXT_DIR))\n",
        "        except Exception as e:\n",
        "            errors.append((item[\"name\"], str(e)))\n",
        "\n",
        "    # 2) Extra URLs\n",
        "    for url in [u.strip() for u in extra_lines if u.strip()]:\n",
        "        try:\n",
        "            installed.append(install_or_update(url, EXT_DIR))\n",
        "        except Exception as e:\n",
        "            errors.append((url, str(e)))\n",
        "\n",
        "    return installed, errors\n",
        "\n",
        "def on_click(_):\n",
        "    out.clear_output()\n",
        "    with out:\n",
        "        print(\"Installing… this can take a minute if repos are large.\")\n",
        "        lines = extra_text.value.splitlines()\n",
        "        installed, errors = perform_install(ext_checkboxes, lines)\n",
        "\n",
        "        print(\"\\n=== Summary ===\")\n",
        "        for p in installed:\n",
        "            print(\"✔\", p)\n",
        "        if errors:\n",
        "            print(\"\\nErrors:\")\n",
        "            for name, msg in errors:\n",
        "                print(\"✖\", name, \"→\", msg)\n",
        "        print(\"\\nIf extensions don't appear, run the **Restart WebUI** cell below and then refresh the WebUI.\")\n",
        "\n",
        "btn.on_click(on_click)\n",
        "print(\"Installer logic loaded.\")"
      ],
      "execution_count": null,
      "outputs": []
    },
    {
      "cell_type": "markdown",
      "metadata": {},
      "source": [
        "## Restart WebUI (required after installing)\n",
        "This restarts A1111 under **supervisord**. If the supervisor control socket is unavailable, it falls back to killing `launch.py` so Supervisor auto-restarts it."
      ]
    },
    {
      "cell_type": "code",
      "metadata": {},
      "source": [
        "import time, subprocess, shlex\n",
        "\n",
        "print(\"Attempting to restart the A1111 WebUI service via supervisord …\")\n",
        "try:\n",
        "    cmd = \"supervisorctl -c /etc/supervisord.conf restart a1111\"\n",
        "    out = subprocess.run(shlex.split(cmd), capture_output=True, text=True)\n",
        "    if out.returncode == 0 and \"a1111:\" in (out.stdout or \"\"):\n",
        "        print((out.stdout or out.stderr).strip() or \"✔ Restarted via supervisord\")\n",
        "    else:\n",
        "        print(\"Supervisorctl socket unavailable, forcing process restart…\")\n",
        "        subprocess.run(\"pkill -f 'launch.py'\", shell=True)\n",
        "        time.sleep(5)\n",
        "        print(\"✔ WebUI process terminated, Supervisor will auto-restart it\")\n",
        "    print(\"Wait ~15 seconds, then reload your WebUI tab (port 7860).\")\n",
        "except Exception as e:\n",
        "    print(\"Restart attempt failed:\", e)\n",
        "    print(\"Manual command:\")\n",
        "    print(\"supervisorctl -c /etc/supervisord.conf restart a1111\")"
      ],
      "execution_count": null,
      "outputs": []
    },
    {
      "cell_type": "markdown",
      "metadata": {},
      "source": [
        "## Verify",
        "List what’s currently in the data extensions folder."
      ]
    },
    {
      "cell_type": "code",
      "metadata": {},
      "source": [
        "from pathlib import Path\n",
        "p = Path('/workspace/a1111/extensions')\n",
        "items = sorted([x.name for x in p.iterdir()]) if p.exists() else []\n",
        "print(\"Extensions found:\")\n",
        "for name in items:\n",
        "    print(\"✔\", name)\n",
        "print(\"Total:\", len(items))"
      ],
      "execution_count": null,
      "outputs": []
    }
  ],
  "metadata": {
    "kernelspec": { "display_name": "Python 3 (ipykernel)", "language": "python", "name": "python3" },
    "language_info": { "name": "python", "version": "3.10" }
  },
  "nbformat": 4,
  "nbformat_minor": 5
}
