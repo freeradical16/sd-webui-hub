{
 "cells": [
  {
   "cell_type": "markdown",
   "metadata": {},
   "source": [
    "# A1111 Model Installer — **SDXL (1.0)**\n",
    "\n",
    "Downloads SDXL models into your persistent A1111 data directory.\n",
    "\n",
    "- **Data root:** `/workspace/a1111`\n",
    "- **Model paths:** `/workspace/a1111/models/...`\n",
    "\n",
    "### What’s covered (SDXL)\n",
    "- **Base & Refiner checkpoints**\n",
    "- **VAE** (for SDXL)\n",
    "- **ControlNet XL** common models\n",
    "- **AnimateDiff XL**, **ReActor**, or other extension models (optional)\n",
    "\n",
    "### Notes\n",
    "- Requires `huggingface_hub` for repo-based downloads (available in your base image).\n",
    "- You can use your Hugging Face access token if any model is gated.\n",
    "- Safe to rerun — existing files are skipped.\n",
    "- Run the **Restart WebUI** cell at the end when finished."
   ]
  },
  {
   "cell_type": "code",
   "metadata": { "tags": ["parameters"] },
   "source": [
    "# --- Configuration ---\n",
    "import os\n",
    "from pathlib import Path\n",
    "\n",
    "WEBUI_ROOT = Path(os.environ.get(\"WEBUI_ROOT\", \"/workspace/a1111\"))\n",
    "HF_TOKEN = os.environ.get(\"HF_TOKEN\", \"\")  # optional HF auth token\n",
    "\n",
    "INSTALL_CHECKPOINTS = True\n",
    "INSTALL_VAES        = True\n",
    "INSTALL_CONTROLNET  = True\n",
    "INSTALL_OTHERS      = False  # AnimateDiff, ReActor, etc.\n",
    "\n",
    "print(\"WEBUI_ROOT:\", WEBUI_ROOT)\n",
    "print(\"HF_TOKEN set:\", bool(HF_TOKEN))\n",
    "\n",
    "# Destination directories\n",
    "CKPT_DIR = WEBUI_ROOT / \"models\" / \"Stable-diffusion\"\n",
    "VAE_DIR  = WEBUI_ROOT / \"models\" / \"VAE\"\n",
    "CN_DIR   = WEBUI_ROOT / \"models\" / \"ControlNet\"\n",
    "OTH_DIR  = WEBUI_ROOT / \"models\" / \"Extras\"\n",
    "\n",
    "for d in [CKPT_DIR, VAE_DIR, CN_DIR, OTH_DIR]:\n",
    "    d.mkdir(parents=True, exist_ok=True)\n",
    "CKPT_DIR, VAE_DIR, CN_DIR"
   ],
   "execution_count": null,
   "outputs": []
  },
  {
   "cell_type": "markdown",
   "metadata": {},
   "source": [
    "## Model lists (SDXL)\n",
    "You can uncomment or add your own links below.\n",
    "\n",
    "- **Hugging Face**: specify `repo_id` and `filename` (preferred)\n",
    "- **Direct**: raw HTTPS links (CivitAI, etc.)"
   ]
  },
  {
   "cell_type": "code",
   "metadata": {},
   "source": [
    "# --- Checkpoints (SDXL) ---\n",
    "CHECKPOINTS_HF = [\n",
    "    # Base model\n",
    "    # {\"repo_id\": \"stabilityai/stable-diffusion-xl-base-1.0\", \"filename\": \"sd_xl_base_1.0.safetensors\"},\n",
    "    # Refiner\n",
    "    # {\"repo_id\": \"stabilityai/stable-diffusion-xl-refiner-1.0\", \"filename\": \"sd_xl_refiner_1.0.safetensors\"},\n",
    "]\n",
    "CHECKPOINTS_DIRECT = [\n",
    "    # Optional: CivitAI or other .safetensors direct URLs\n",
    "]\n",
    "\n",
    "# --- VAEs ---\n",
    "VAES_HF = [\n",
    "    # Example: {\"repo_id\": \"madebyollin/sdxl-vae-fp16-fix\", \"filename\": \"sdxl_vae.safetensors\"},\n",
    "]\n",
    "VAES_DIRECT = []\n",
    "\n",
    "# --- ControlNet XL ---\n",
    "CONTROLNET_HF = [\n",
    "    # {\"repo_id\": \"diffusers/controlnet-sdxl-1.0\", \"filename\": \"diffusion_pytorch_model.safetensors\", \"dest\": \"controlnet-sdxl.safetensors\"},\n",
    "    # {\"repo_id\": \"lllyasviel/controlnet-sdxl-1.0\", \"filename\": \"controlnet-canny-sdxl-1.0.safetensors\"},\n",
    "]\n",
    "CONTROLNET_DIRECT = []\n",
    "\n",
    "# --- Optional extension-related (AnimateDiff XL, ReActor, etc.) ---\n",
    "OTHERS_DIRECT = [\n",
    "    # AnimateDiff XL example\n",
    "    # \"https://huggingface.co/guoyww/animatediff/resolve/main/SDXL/sdxl_motion_module.safetensors\",\n",
    "]\n",
    "\n",
    "print(\"Lists ready; edit or uncomment items you want to download.\")"
   ],
   "execution_count": null,
   "outputs": []
  },
  {
   "cell_type": "markdown",
   "metadata": {},
   "source": [
    "## Downloader core\n",
    "Handles both HF and direct URLs, reusing the same logic as the SD1.5 installer."
   ]
  },
  {
   "cell_type": "code",
   "metadata": {},
   "source": [
    "import os, shutil, requests\n",
    "from pathlib import Path\n",
    "from urllib.parse import urlparse\n",
    "\n",
    "try:\n",
    "    from huggingface_hub import hf_hub_download\n",
    "    HF_OK = True\n",
    "except Exception:\n",
    "    HF_OK = False\n",
    "\n",
    "def human(n):\n",
    "    for unit in ['B','KB','MB','GB']:\n",
    "        if n < 1024:\n",
    "            return f\"{n:.1f} {unit}\"\n",
    "        n /= 1024\n",
    "    return f\"{n:.1f} TB\"\n",
    "\n",
    "def download_direct(url, dest):\n",
    "    dest.parent.mkdir(parents=True, exist_ok=True)\n",
    "    if dest.exists():\n",
    "        print(\"✔ Exists:\", dest)\n",
    "        return\n",
    "    r = requests.get(url, stream=True)\n",
    "    r.raise_for_status()\n",
    "    size = int(r.headers.get('Content-Length', 0))\n",
    "    print(f\"→ {url} ({human(size)})\")\n",
    "    tmp = dest.with_suffix('.part')\n",
    "    with open(tmp, 'wb') as f:\n",
    "        for chunk in r.iter_content(1024*1024):\n",
    "            f.write(chunk)\n",
    "    tmp.replace(dest)\n",
    "    print(\"✔ Saved:\", dest)\n",
    "\n",
    "def download_hf(repo_id, filename, dest_dir, dest_name=None):\n",
    "    if not HF_OK:\n",
    "        print(\"huggingface_hub not available; skipping\")\n",
    "        return\n",
    "    dest = dest_dir / (dest_name or filename)\n",
    "    if dest.exists():\n",
    "        print(\"✔ Exists:\", dest)\n",
    "        return\n",
    "    try:\n",
    "        path = hf_hub_download(repo_id=repo_id, filename=filename, token=(HF_TOKEN or None))\n",
    "        shutil.copy2(path, dest)\n",
    "        print(\"✔ HF downloaded:\", dest)\n",
    "    except Exception as e:\n",
    "        print(\"✖ HF error for\", repo_id, filename, \":\", e)\n",
    "\n",
    "print(\"Downloader ready.\")"
   ],
   "execution_count": null,
   "outputs": []
  },
  {
   "cell_type": "markdown",
   "metadata": {},
   "source": [
    "## Run installers\n",
    "Safe to rerun anytime; existing files are skipped."
   ]
  },
  {
   "cell_type": "code",
   "metadata": {},
   "source": [
    "if INSTALL_CHECKPOINTS:\n",
    "    print(\"\\n=== SDXL Checkpoints ===\")\n",
    "    for it in CHECKPOINTS_HF:\n",
    "        download_hf(it[\"repo_id\"], it[\"filename\"], CKPT_DIR, it.get(\"dest\"))\n",
    "    for u in CHECKPOINTS_DIRECT:\n",
    "        download_direct(u, CKPT_DIR / Path(urlparse(u).path).name)\n",
    "\n",
    "if INSTALL_VAES:\n",
    "    print(\"\\n=== SDXL VAEs ===\")\n",
    "    for it in VAES_HF:\n",
    "        download_hf(it[\"repo_id\"], it[\"filename\"], VAE_DIR, it.get(\"dest\"))\n",
    "    for u in VAES_DIRECT:\n",
    "        download_direct(u, VAE_DIR / Path(urlparse(u).path).name)\n",
    "\n",
    "if INSTALL_CONTROLNET:\n",
    "    print(\"\\n=== ControlNet XL ===\")\n",
    "    for it in CONTROLNET_HF:\n",
    "        download_hf(it[\"repo_id\"], it[\"filename\"], CN_DIR, it.get(\"dest\"))\n",
    "    for u in CONTROLNET_DIRECT:\n",
    "        download_direct(u, CN_DIR / Path(urlparse(u).path).name)\n",
    "\n",
    "if INSTALL_OTHERS:\n",
    "    print(\"\\n=== Optional extras (AnimateDiff XL, ReActor, etc.) ===\")\n",
    "    for u in OTHERS_DIRECT:\n",
    "        download_direct(u, OTH_DIR / Path(urlparse(u).path).name)\n",
    "\n",
    "print(\"\\nAll done.\")"
   ],
   "execution_count": null,
   "outputs": []
  },
  {
   "cell_type": "markdown",
   "metadata": {},
   "source": [
    "## Restart WebUI"
   ]
  },
  {
   "cell_type": "code",
   "metadata": {},
   "source": [
    "import subprocess, shlex, time\n",
    "\n",
    "print(\"Restarting A1111 (supervisord)…\")\n",
    "try:\n",
    "    cmd = \"supervisorctl -c /etc/supervisord.conf restart a1111\"\n",
    "    out = subprocess.run(shlex.split(cmd), capture_output=True, text=True)\n",
    "    print(out.stdout or out.stderr or \"✔ Restart command sent.\")\n",
    "except Exception as e:\n",
    "    print(\"Manual restart command if needed:\")\n",
    "    print(\"supervisorctl -c /etc/supervisord.conf restart a1111\")"
   ],
   "execution_count": null,
   "outputs": []
  }
 ],
 "metadata": {
  "kernelspec": {
   "display_name": "Python 3 (ipykernel)",
   "language": "python",
   "name": "python3"
  },
  "language_info": {
   "name": "python",
   "version": "3.10"
  }
 },
 "nbformat": 4,
 "nbformat_minor": 5
}
