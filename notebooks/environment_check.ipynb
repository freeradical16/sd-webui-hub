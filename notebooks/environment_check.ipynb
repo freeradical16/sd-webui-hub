{
 "cells": [
  {
   "cell_type": "markdown",
   "metadata": {},
   "source": [
    "# Environment Check\n",
    "\n",
    "Click the button below to print Python, PyTorch, CUDA, `nvidia-smi`, and run a tiny GPU test."
   ]
  },
  {
   "cell_type": "code",
   "execution_count": null,
   "metadata": {},
   "outputs": [],
   "source": [
    "import os, shutil, subprocess, sys\n",
    "import torch\n",
    "from ipywidgets import Button, Output, VBox\n",
    "from IPython.display import display\n",
    "\n",
    "out = Output()\n",
    "\n",
    "def _run(cmd, timeout=20):\n",
    "    try:\n",
    "        res = subprocess.run(\n",
    "            cmd, stdout=subprocess.PIPE, stderr=subprocess.STDOUT,\n",
    "            text=True, timeout=timeout, check=False\n",
    "        )\n",
    "        return res.stdout.strip()\n",
    "    except Exception as e:\n",
    "        return f\"<error: {e}>\"\n",
    "\n",
    "def _fmt_gb(x):\n",
    "    try:\n",
    "        return f\"{float(x):.2f}\"\n",
    "    except Exception:\n",
    "        return str(x)\n",
    "\n",
    "def check_env(_=None):\n",
    "    out.clear_output()\n",
    "    with out:\n",
    "        print(\"=== Environment Check ===\")\n",
    "        print(f\"Python       : {sys.version.split()[0]}\")\n",
    "        print(f\"PyTorch      : {torch.__version__}\")\n",
    "        print(f\"CUDA (Torch) : {getattr(torch.version, 'cuda', None)}\")\n",
    "        print(f\"CUDA available via Torch: {torch.cuda.is_available()}\")\n",
    "\n",
    "        if torch.cuda.is_available():\n",
    "            try:\n",
    "                name = torch.cuda.get_device_name(0)\n",
    "                total_gb = torch.cuda.get_device_properties(0).total_memory / (1024**3)\n",
    "                print(f\"GPU name     : {name}\")\n",
    "                print(f\"GPU memory   : {_fmt_gb(total_gb)} GB\")\n",
    "            except Exception as e:\n",
    "                print(f\"GPU props    : <error: {e}>\")\n",
    "\n",
    "        print(\"\\n--- nvidia-smi ---\")\n",
    "        if shutil.which(\"nvidia-smi\"):\n",
    "            print(_run([\"nvidia-smi\"]))\n",
    "        else:\n",
    "            print(\"nvidia-smi not found in PATH\")\n",
    "\n",
    "        print(\"\\n--- GPU matmul test ---\")\n",
    "        if torch.cuda.is_available():\n",
    "            try:\n",
    "                x = torch.randn(1000, 1000, device=\"cuda\")\n",
    "                y = x @ x\n",
    "                print(\"GPU matmul OK; result mean:\", y.mean().item())\n",
    "            except Exception as e:\n",
    "                print(\"GPU matmul failed:\", e)\n",
    "        else:\n",
    "            print(\"CUDA not available; skipped matmul\")\n",
    "\n",
    "btn = Button(description=\"Run Environment Check\", button_style=\"primary\")\n",
    "btn.on_click(check_env)\n",
    "\n",
    "display(VBox([btn, out]))"
   ]
  }
 ],
 "metadata": {
  "kernelspec": {
   "display_name": "Python 3 (ipykernel)",
   "language": "python",
   "name": "python3"
  },
  "language_info": {
   "codemirror_mode": {
    "name": "ipython",
    "version": 3
   },
   "file_extension": ".py",
   "mimetype": "text/x-python",
   "name": "python",
   "nbconvert_exporter": "python",
   "pygments_lexer": "ipython3",
   "version": "3.10"
  }
 },
 "nbformat": 4,
 "nbformat_minor": 5
}
