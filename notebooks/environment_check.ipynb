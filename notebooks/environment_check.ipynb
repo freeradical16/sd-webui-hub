{
  "cells": [
    {
      "cell_type": "markdown",
      "metadata": {},
      "source": [
        "# Environment Check\n",
        "\n",
        "Run the cell below to print Python, PyTorch, CUDA info, `nvidia-smi`, and a tiny GPU test."
      ]
    },
    {
      "cell_type": "code",
      "execution_count": null,
      "metadata": {},
      "outputs": [],
      "source": [
        "import sys, shutil, subprocess, torch\n",
        "print(\"=== Environment Check ===\")\n",
        "print(f\"Python       : {sys.version.split()[0]}\")\n",
        "print(f\"PyTorch      : {torch.__version__}\")\n",
        "print(f\"CUDA (Torch) : {getattr(torch.version, 'cuda', None)}\")\n",
        "print(f\"CUDA available via Torch: {torch.cuda.is_available()}\")\n",
        "\n",
        "if torch.cuda.is_available():\n",
        "    try:\n",
        "        name = torch.cuda.get_device_name(0)\n",
        "        total_gb = torch.cuda.get_device_properties(0).total_memory / (1024**3)\n",
        "        print(f\"GPU name     : {name}\")\n",
        "        print(f\"GPU memory   : {total_gb:.2f} GB\")\n",
        "    except Exception as e:\n",
        "        print(f\"GPU props    : <error: {e}>\")\n",
        "\n",
        "print(\"\\n--- nvidia-smi ---\")\n",
        "if shutil.which(\"nvidia-smi\"):\n",
        "    try:\n",
        "        out = subprocess.check_output([\"nvidia-smi\"], text=True)\n",
        "        print(out)\n",
        "    except Exception as e:\n",
        "        print(f\"nvidia-smi error: {e}\")\n",
        "else:\n",
        "    print(\"nvidia-smi not found in PATH\")\n",
        "\n",
        "print(\"\\n--- GPU matmul test ---\")\n",
        "if torch.cuda.is_available():\n",
        "    try:\n",
        "        x = torch.randn(1000, 1000, device=\"cuda\")\n",
        "        y = x @ x\n",
        "        print(\"GPU matmul OK; result mean:\", y.mean().item())\n",
        "    except Exception as e:\n",
        "        print(\"GPU matmul failed:\", e)\n",
        "else:\n",
        "    print(\"CUDA not available; skipped matmul\")\n"
      ]
    }
  ],
  "metadata": {
    "kernelspec": {
      "display_name": "Python 3 (ipykernel)",
      "language": "python",
      "name": "python3"
    },
    "language_info": {
      "name": "python",
      "version": "3.10"
    }
  },
  "nbformat": 4,
  "nbformat_minor": 5
}
