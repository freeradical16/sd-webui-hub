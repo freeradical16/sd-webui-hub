{
 "cells": [
  {
   "cell_type": "markdown",
   "metadata": {},
   "source": [
    "# 🧪 Environment Check\n",
    "\n",
    "Run this to verify Python, PyTorch, CUDA, and your GPU are working on this pod."
   ]
  },
  {
   "cell_type": "code",
   "execution_count": null,
   "metadata": {},
   "outputs": [],
   "source": [
    "import platform, shutil, subprocess\n",
    "import torch\n",
    "\n",
    "print(\"Python version:\", platform.python_version())\n",
    "print(\"PyTorch version:\", torch.__version__)\n",
    "print(\"CUDA version   :\", torch.version.cuda)\n",
    "print(\"CUDA available :\", torch.cuda.is_available())\n",
    "\n",
    "if torch.cuda.is_available():\n",
    "    print(\"GPU name       :\", torch.cuda.get_device_name(0))\n",
    "    props = torch.cuda.get_device_properties(0)\n",
    "    print(\"GPU memory (GB):\", round(props.total_memory / (1024**3), 2))\n",
    "\n",
    "if shutil.which(\"nvidia-smi\"):\n",
    "    print(\"\\n# nvidia-smi:\\n\")\n",
    "    print(subprocess.check_output([\"nvidia-smi\"]).decode())\n",
    "else:\n",
    "    print(\"\\n(nvidia-smi not found in PATH — that's OK on some hosts.)\")\n"
   ]
  },
  {
   "cell_type": "code",
   "execution_count": null,
   "metadata": {},
   "outputs": [],
   "source": [
    "# Simple GPU test\n",
    "if torch.cuda.is_available():\n",
    "    x = torch.randn(1_000, 1_000, device=\"cuda\")\n",
    "    y = torch.mm(x, x)\n",
    "    print(\"GPU matmul OK; result mean:\", y.mean().item())\n",
    "else:\n",
    "    print(\"CUDA not available; skipping GPU tensor test.\")\n"
   ]
  }
 ],
 "metadata": {
  "kernelspec": {
   "display_name": "Python 3",
   "language": "python",
   "name": "python3"
  },
  "language_info": {
   "name": "python",
   "version": "3.10"
  }
 },
 "nbformat": 4,
 "nbformat_minor": 5
}
